{
 "cells": [
  {
   "cell_type": "code",
   "execution_count": 1,
   "id": "7df68808",
   "metadata": {},
   "outputs": [],
   "source": [
    "import pandas as pd\n",
    "import matplotlib.pyplot as plt\n",
    "import seaborn as sns\n",
    "import numpy as np"
   ]
  },
  {
   "cell_type": "markdown",
   "id": "9e82d2b4",
   "metadata": {},
   "source": [
    "## Калибровочная кривая"
   ]
  },
  {
   "cell_type": "markdown",
   "id": "46fb64f2",
   "metadata": {},
   "source": [
    "Сперва проанализируем полученные нами данные и оценим, хороши они или нет"
   ]
  },
  {
   "cell_type": "code",
   "execution_count": 2,
   "id": "1e94e4d8",
   "metadata": {},
   "outputs": [],
   "source": [
    "data = pd.read_excel('group egorova 16.04.xlsx', index_col = 0)"
   ]
  },
  {
   "cell_type": "code",
   "execution_count": 3,
   "id": "0a2d9710",
   "metadata": {},
   "outputs": [
    {
     "data": {
      "text/html": [
       "<div>\n",
       "<style scoped>\n",
       "    .dataframe tbody tr th:only-of-type {\n",
       "        vertical-align: middle;\n",
       "    }\n",
       "\n",
       "    .dataframe tbody tr th {\n",
       "        vertical-align: top;\n",
       "    }\n",
       "\n",
       "    .dataframe thead th {\n",
       "        text-align: right;\n",
       "    }\n",
       "</style>\n",
       "<table border=\"1\" class=\"dataframe\">\n",
       "  <thead>\n",
       "    <tr style=\"text-align: right;\">\n",
       "      <th></th>\n",
       "      <th>1</th>\n",
       "      <th>2</th>\n",
       "      <th>3</th>\n",
       "      <th>4</th>\n",
       "      <th>5</th>\n",
       "      <th>6</th>\n",
       "      <th>7</th>\n",
       "      <th>8</th>\n",
       "      <th>9</th>\n",
       "      <th>10</th>\n",
       "      <th>11</th>\n",
       "      <th>12</th>\n",
       "    </tr>\n",
       "  </thead>\n",
       "  <tbody>\n",
       "    <tr>\n",
       "      <th>A</th>\n",
       "      <td>0.290</td>\n",
       "      <td>0.319</td>\n",
       "      <td>0.321</td>\n",
       "      <td>0.350</td>\n",
       "      <td>0.383</td>\n",
       "      <td>0.400</td>\n",
       "      <td>0.412</td>\n",
       "      <td>0.437</td>\n",
       "      <td>0.443</td>\n",
       "      <td>0.423</td>\n",
       "      <td>0.479</td>\n",
       "      <td>0.095</td>\n",
       "    </tr>\n",
       "    <tr>\n",
       "      <th>B</th>\n",
       "      <td>0.294</td>\n",
       "      <td>0.333</td>\n",
       "      <td>0.337</td>\n",
       "      <td>0.361</td>\n",
       "      <td>0.393</td>\n",
       "      <td>0.418</td>\n",
       "      <td>0.426</td>\n",
       "      <td>0.441</td>\n",
       "      <td>0.468</td>\n",
       "      <td>0.467</td>\n",
       "      <td>0.508</td>\n",
       "      <td>0.095</td>\n",
       "    </tr>\n",
       "    <tr>\n",
       "      <th>C</th>\n",
       "      <td>0.288</td>\n",
       "      <td>0.320</td>\n",
       "      <td>0.342</td>\n",
       "      <td>0.342</td>\n",
       "      <td>0.364</td>\n",
       "      <td>0.392</td>\n",
       "      <td>0.409</td>\n",
       "      <td>0.443</td>\n",
       "      <td>0.459</td>\n",
       "      <td>0.464</td>\n",
       "      <td>0.507</td>\n",
       "      <td>0.098</td>\n",
       "    </tr>\n",
       "    <tr>\n",
       "      <th>D</th>\n",
       "      <td>0.299</td>\n",
       "      <td>0.326</td>\n",
       "      <td>0.337</td>\n",
       "      <td>0.365</td>\n",
       "      <td>0.383</td>\n",
       "      <td>0.400</td>\n",
       "      <td>0.416</td>\n",
       "      <td>0.458</td>\n",
       "      <td>0.392</td>\n",
       "      <td>0.475</td>\n",
       "      <td>0.527</td>\n",
       "      <td>0.099</td>\n",
       "    </tr>\n",
       "    <tr>\n",
       "      <th>E</th>\n",
       "      <td>0.303</td>\n",
       "      <td>0.328</td>\n",
       "      <td>0.341</td>\n",
       "      <td>0.356</td>\n",
       "      <td>0.390</td>\n",
       "      <td>0.408</td>\n",
       "      <td>0.421</td>\n",
       "      <td>0.456</td>\n",
       "      <td>0.475</td>\n",
       "      <td>0.485</td>\n",
       "      <td>0.500</td>\n",
       "      <td>0.101</td>\n",
       "    </tr>\n",
       "    <tr>\n",
       "      <th>F</th>\n",
       "      <td>0.311</td>\n",
       "      <td>0.324</td>\n",
       "      <td>0.360</td>\n",
       "      <td>0.371</td>\n",
       "      <td>0.400</td>\n",
       "      <td>0.412</td>\n",
       "      <td>0.437</td>\n",
       "      <td>0.457</td>\n",
       "      <td>0.484</td>\n",
       "      <td>0.484</td>\n",
       "      <td>0.506</td>\n",
       "      <td>0.099</td>\n",
       "    </tr>\n",
       "    <tr>\n",
       "      <th>G</th>\n",
       "      <td>0.348</td>\n",
       "      <td>0.333</td>\n",
       "      <td>0.354</td>\n",
       "      <td>0.376</td>\n",
       "      <td>0.395</td>\n",
       "      <td>0.405</td>\n",
       "      <td>0.432</td>\n",
       "      <td>0.442</td>\n",
       "      <td>0.477</td>\n",
       "      <td>0.482</td>\n",
       "      <td>0.515</td>\n",
       "      <td>0.098</td>\n",
       "    </tr>\n",
       "    <tr>\n",
       "      <th>H</th>\n",
       "      <td>0.316</td>\n",
       "      <td>0.329</td>\n",
       "      <td>0.364</td>\n",
       "      <td>0.383</td>\n",
       "      <td>0.401</td>\n",
       "      <td>0.411</td>\n",
       "      <td>0.444</td>\n",
       "      <td>0.453</td>\n",
       "      <td>0.497</td>\n",
       "      <td>0.497</td>\n",
       "      <td>0.525</td>\n",
       "      <td>0.099</td>\n",
       "    </tr>\n",
       "  </tbody>\n",
       "</table>\n",
       "</div>"
      ],
      "text/plain": [
       "       1      2      3      4      5      6      7      8      9     10  \\\n",
       "A  0.290  0.319  0.321  0.350  0.383  0.400  0.412  0.437  0.443  0.423   \n",
       "B  0.294  0.333  0.337  0.361  0.393  0.418  0.426  0.441  0.468  0.467   \n",
       "C  0.288  0.320  0.342  0.342  0.364  0.392  0.409  0.443  0.459  0.464   \n",
       "D  0.299  0.326  0.337  0.365  0.383  0.400  0.416  0.458  0.392  0.475   \n",
       "E  0.303  0.328  0.341  0.356  0.390  0.408  0.421  0.456  0.475  0.485   \n",
       "F  0.311  0.324  0.360  0.371  0.400  0.412  0.437  0.457  0.484  0.484   \n",
       "G  0.348  0.333  0.354  0.376  0.395  0.405  0.432  0.442  0.477  0.482   \n",
       "H  0.316  0.329  0.364  0.383  0.401  0.411  0.444  0.453  0.497  0.497   \n",
       "\n",
       "      11     12  \n",
       "A  0.479  0.095  \n",
       "B  0.508  0.095  \n",
       "C  0.507  0.098  \n",
       "D  0.527  0.099  \n",
       "E  0.500  0.101  \n",
       "F  0.506  0.099  \n",
       "G  0.515  0.098  \n",
       "H  0.525  0.099  "
      ]
     },
     "execution_count": 3,
     "metadata": {},
     "output_type": "execute_result"
    }
   ],
   "source": [
    "data"
   ]
  },
  {
   "cell_type": "code",
   "execution_count": 4,
   "id": "c6a9305d",
   "metadata": {},
   "outputs": [
    {
     "name": "stdout",
     "output_type": "stream",
     "text": [
      "3\n"
     ]
    }
   ],
   "source": [
    "means = []\n",
    "for i in range(0, data.shape[0], 2):\n",
    "    m = data.iloc[i:i+2]\n",
    "    means.append(m.var(axis = 0).mean())\n",
    "means = np.array(means)\n",
    "print(np.argmin(means) +1)"
   ]
  },
  {
   "cell_type": "code",
   "execution_count": 5,
   "id": "38d64029",
   "metadata": {},
   "outputs": [
    {
     "name": "stdout",
     "output_type": "stream",
     "text": [
      "3\n"
     ]
    }
   ],
   "source": [
    "means = []\n",
    "for i in range(0, data.shape[0], 2):\n",
    "    m = abs(data.iloc[i+1] - data.iloc[i])\n",
    "    means.append(m.mean())\n",
    "means = np.array(means)\n",
    "print(np.argmin(means) +1)"
   ]
  },
  {
   "cell_type": "markdown",
   "id": "9c9c2038",
   "metadata": {},
   "source": [
    "Поздравляю, у нашей группы самые ровно раскапанные образцы (минимальный размах и дисперсия)"
   ]
  },
  {
   "cell_type": "markdown",
   "id": "0b5cdb42",
   "metadata": {},
   "source": [
    "Отобразим все образцы на графиках (ось y -- данные спектрофотометра, x -- мкл белка)"
   ]
  },
  {
   "cell_type": "code",
   "execution_count": 6,
   "id": "d96b8d02",
   "metadata": {},
   "outputs": [
    {
     "data": {
      "image/png": "[encoded data removed]",
      "text/plain": [
       "<Figure size 576x576 with 4 Axes>"
      ]
     },
     "metadata": {
      "needs_background": "light"
     },
     "output_type": "display_data"
    }
   ],
   "source": [
    "fig, axes = plt.subplots(2, 2, figsize = (8, 8))\n",
    "axes = axes.flatten()\n",
    "\n",
    "for i, ax in enumerate(axes):\n",
    "    arr = data.iloc[[i*2,i*2+1]]\n",
    "    arr = arr.mean(axis = 0)\n",
    "    arr -=arr[0]\n",
    "    sns.lineplot(y = arr[:-1], x = np.arange(0, 11)*10, ax = ax)\n",
    "    ax.set_title(i+1)\n",
    "plt.suptitle('Калибровочные кривые')\n",
    "pass"
   ]
  },
  {
   "cell_type": "markdown",
   "id": "8b111f40",
   "metadata": {},
   "source": [
    "И самая норм кривая"
   ]
  },
  {
   "cell_type": "code",
   "execution_count": 7,
   "id": "babd9077",
   "metadata": {},
   "outputs": [],
   "source": [
    "ours = data.loc[['E', 'F']]"
   ]
  },
  {
   "cell_type": "code",
   "execution_count": 8,
   "id": "8f155089",
   "metadata": {},
   "outputs": [],
   "source": [
    "ours = ours.mean(axis = 0)"
   ]
  },
  {
   "cell_type": "code",
   "execution_count": 9,
   "id": "09fed8e1",
   "metadata": {},
   "outputs": [],
   "source": [
    "ours = ours - ours[0]"
   ]
  },
  {
   "cell_type": "code",
   "execution_count": 10,
   "id": "6e2174c0",
   "metadata": {},
   "outputs": [
    {
     "data": {
      "image/png": "[encoded data removed]",
      "text/plain": [
       "<Figure size 1080x576 with 1 Axes>"
      ]
     },
     "metadata": {
      "needs_background": "light"
     },
     "output_type": "display_data"
    }
   ],
   "source": [
    "plt.figure(figsize=(15,8))\n",
    "sns.lineplot(y = ours[:-1], x = np.arange(0, 11)*10, color = 'black').set_title('Калибровочная кривая')\n",
    "pass"
   ]
  },
  {
   "cell_type": "code",
   "execution_count": 11,
   "id": "386871f9",
   "metadata": {},
   "outputs": [],
   "source": [
    "y = (np.arange(0, 11)*10)\n",
    "X = ours[:-1].to_numpy().reshape(-1, 1)"
   ]
  },
  {
   "cell_type": "markdown",
   "id": "b3635f63",
   "metadata": {},
   "source": [
    "Обучим линейную регрессию -- она по данным спектрофотометра будет предсказывать мкл белка. Сделаем так, чтобы bias линейной регрессии не обучался и был всегда равен нулю -- поскольку мы вычли из данных фон, при 0 мкл спектрофотометр должен показывать 0. Выведем коэффициент линейной регрессии"
   ]
  },
  {
   "cell_type": "code",
   "execution_count": 12,
   "id": "3948039f",
   "metadata": {},
   "outputs": [],
   "source": [
    "from sklearn.linear_model import LinearRegression"
   ]
  },
  {
   "cell_type": "code",
   "execution_count": 13,
   "id": "9072a815",
   "metadata": {},
   "outputs": [
    {
     "name": "stdout",
     "output_type": "stream",
     "text": [
      "Коэффициент: 488.982570\n"
     ]
    }
   ],
   "source": [
    "linreg = LinearRegression(fit_intercept = False)\n",
    "linreg.fit(X, y)\n",
    "print('Коэффициент: %f' % linreg.coef_)"
   ]
  },
  {
   "cell_type": "markdown",
   "id": "2dc44677",
   "metadata": {},
   "source": [
    "Нарисуем на одном графике калибровочную кривую, построенную при помощи линейного уравнения с полученным нами коэффициентом, и точки, измеренные нами на определенных концентрациях"
   ]
  },
  {
   "cell_type": "code",
   "execution_count": 14,
   "id": "4ab07768",
   "metadata": {},
   "outputs": [
    {
     "data": {
      "image/png": "[encoded data removed]",
      "text/plain": [
       "<Figure size 1080x576 with 1 Axes>"
      ]
     },
     "metadata": {
      "needs_background": "light"
     },
     "output_type": "display_data"
    }
   ],
   "source": [
    "plt.figure(figsize=(15,8))\n",
    "sns.lineplot(y = ours[:-1], x = (np.arange(0, 11)*10), color = 'red')\n",
    "sns.lineplot(x = [0, 0.2*linreg.coef_[0]], y = [0, 0.2], color = 'black').set_title('Калибровочная кривая')\n",
    "pass"
   ]
  },
  {
   "cell_type": "markdown",
   "id": "c90478f2",
   "metadata": {},
   "source": [
    "## Концентрация белка"
   ]
  },
  {
   "cell_type": "code",
   "execution_count": 119,
   "id": "c5fea425",
   "metadata": {},
   "outputs": [],
   "source": [
    "bradford = pd.read_csv('bradford.txt', sep = '\\t' )"
   ]
  },
  {
   "cell_type": "markdown",
   "id": "2d594fe1",
   "metadata": {},
   "source": [
    "Выведем данные со спектрофотометра:"
   ]
  },
  {
   "cell_type": "code",
   "execution_count": 120,
   "id": "bae095b7",
   "metadata": {},
   "outputs": [
    {
     "data": {
      "text/html": [
       "<div>\n",
       "<style scoped>\n",
       "    .dataframe tbody tr th:only-of-type {\n",
       "        vertical-align: middle;\n",
       "    }\n",
       "\n",
       "    .dataframe tbody tr th {\n",
       "        vertical-align: top;\n",
       "    }\n",
       "\n",
       "    .dataframe thead th {\n",
       "        text-align: right;\n",
       "    }\n",
       "</style>\n",
       "<table border=\"1\" class=\"dataframe\">\n",
       "  <thead>\n",
       "    <tr style=\"text-align: right;\">\n",
       "      <th></th>\n",
       "      <th>1</th>\n",
       "      <th>0.5</th>\n",
       "      <th>0.25</th>\n",
       "    </tr>\n",
       "  </thead>\n",
       "  <tbody>\n",
       "    <tr>\n",
       "      <th>0</th>\n",
       "      <td>0.275</td>\n",
       "      <td>0.273</td>\n",
       "      <td>0.279</td>\n",
       "    </tr>\n",
       "    <tr>\n",
       "      <th>1</th>\n",
       "      <td>0.290</td>\n",
       "      <td>0.288</td>\n",
       "      <td>0.300</td>\n",
       "    </tr>\n",
       "    <tr>\n",
       "      <th>2</th>\n",
       "      <td>0.273</td>\n",
       "      <td>0.271</td>\n",
       "      <td>0.269</td>\n",
       "    </tr>\n",
       "    <tr>\n",
       "      <th>3</th>\n",
       "      <td>0.277</td>\n",
       "      <td>0.284</td>\n",
       "      <td>0.278</td>\n",
       "    </tr>\n",
       "    <tr>\n",
       "      <th>4</th>\n",
       "      <td>0.287</td>\n",
       "      <td>0.282</td>\n",
       "      <td>0.281</td>\n",
       "    </tr>\n",
       "    <tr>\n",
       "      <th>5</th>\n",
       "      <td>0.298</td>\n",
       "      <td>0.291</td>\n",
       "      <td>0.294</td>\n",
       "    </tr>\n",
       "    <tr>\n",
       "      <th>6</th>\n",
       "      <td>0.279</td>\n",
       "      <td>0.275</td>\n",
       "      <td>0.275</td>\n",
       "    </tr>\n",
       "  </tbody>\n",
       "</table>\n",
       "</div>"
      ],
      "text/plain": [
       "       1    0.5   0.25\n",
       "0  0.275  0.273  0.279\n",
       "1  0.290  0.288  0.300\n",
       "2  0.273  0.271  0.269\n",
       "3  0.277  0.284  0.278\n",
       "4  0.287  0.282  0.281\n",
       "5  0.298  0.291  0.294\n",
       "6  0.279  0.275  0.275"
      ]
     },
     "execution_count": 120,
     "metadata": {},
     "output_type": "execute_result"
    }
   ],
   "source": [
    "bradford"
   ]
  },
  {
   "cell_type": "markdown",
   "id": "faf79322",
   "metadata": {},
   "source": [
    "План раскапывания:\n",
    "\n",
    "\n",
    "                 100 мкл             50 мкл          25 мкл\n",
    "20--\n",
    "\n",
    "20(повтор)\n",
    "\n",
    "25--\n",
    "\n",
    "25(повтор)\n",
    "\n",
    "30--\n",
    "\n",
    "30(повтор)\n",
    "\n",
    "контроль"
   ]
  },
  {
   "cell_type": "markdown",
   "id": "e0e5af90",
   "metadata": {},
   "source": [
    "Возьмем контроль и вычтем его из всех остальных данных"
   ]
  },
  {
   "cell_type": "code",
   "execution_count": 121,
   "id": "e7ca32fc",
   "metadata": {},
   "outputs": [],
   "source": [
    "empty = bradford.iloc[6]\n",
    "bradford.drop(6, inplace = True)"
   ]
  },
  {
   "cell_type": "code",
   "execution_count": 122,
   "id": "1b58f2e2",
   "metadata": {},
   "outputs": [],
   "source": [
    "empty = empty.mean()\n",
    "bradford = bradford- empty"
   ]
  },
  {
   "cell_type": "markdown",
   "id": "14d747e3",
   "metadata": {},
   "source": [
    "Поскольку после вычитания контроля некоторые данные <0, сделаем так, чтобы они были равны 0"
   ]
  },
  {
   "cell_type": "code",
   "execution_count": 123,
   "id": "5d0a70a3",
   "metadata": {},
   "outputs": [
    {
     "data": {
      "text/html": [
       "<div>\n",
       "<style scoped>\n",
       "    .dataframe tbody tr th:only-of-type {\n",
       "        vertical-align: middle;\n",
       "    }\n",
       "\n",
       "    .dataframe tbody tr th {\n",
       "        vertical-align: top;\n",
       "    }\n",
       "\n",
       "    .dataframe thead th {\n",
       "        text-align: right;\n",
       "    }\n",
       "</style>\n",
       "<table border=\"1\" class=\"dataframe\">\n",
       "  <thead>\n",
       "    <tr style=\"text-align: right;\">\n",
       "      <th></th>\n",
       "      <th>1</th>\n",
       "      <th>0.5</th>\n",
       "      <th>0.25</th>\n",
       "    </tr>\n",
       "  </thead>\n",
       "  <tbody>\n",
       "    <tr>\n",
       "      <th>0</th>\n",
       "      <td>0.000000</td>\n",
       "      <td>0.000000</td>\n",
       "      <td>0.002667</td>\n",
       "    </tr>\n",
       "    <tr>\n",
       "      <th>1</th>\n",
       "      <td>0.013667</td>\n",
       "      <td>0.011667</td>\n",
       "      <td>0.023667</td>\n",
       "    </tr>\n",
       "    <tr>\n",
       "      <th>2</th>\n",
       "      <td>0.000000</td>\n",
       "      <td>0.000000</td>\n",
       "      <td>0.000000</td>\n",
       "    </tr>\n",
       "    <tr>\n",
       "      <th>3</th>\n",
       "      <td>0.000667</td>\n",
       "      <td>0.007667</td>\n",
       "      <td>0.001667</td>\n",
       "    </tr>\n",
       "    <tr>\n",
       "      <th>4</th>\n",
       "      <td>0.010667</td>\n",
       "      <td>0.005667</td>\n",
       "      <td>0.004667</td>\n",
       "    </tr>\n",
       "    <tr>\n",
       "      <th>5</th>\n",
       "      <td>0.021667</td>\n",
       "      <td>0.014667</td>\n",
       "      <td>0.017667</td>\n",
       "    </tr>\n",
       "  </tbody>\n",
       "</table>\n",
       "</div>"
      ],
      "text/plain": [
       "          1       0.5      0.25\n",
       "0  0.000000  0.000000  0.002667\n",
       "1  0.013667  0.011667  0.023667\n",
       "2  0.000000  0.000000  0.000000\n",
       "3  0.000667  0.007667  0.001667\n",
       "4  0.010667  0.005667  0.004667\n",
       "5  0.021667  0.014667  0.017667"
      ]
     },
     "execution_count": 123,
     "metadata": {},
     "output_type": "execute_result"
    }
   ],
   "source": [
    "bradford[bradford<0] = 0\n",
    "bradford"
   ]
  },
  {
   "cell_type": "markdown",
   "id": "dd39d3a8",
   "metadata": {},
   "source": [
    "Умножим все на коэффициент линейной регрессии, полученный при построении калибровочной кривой"
   ]
  },
  {
   "cell_type": "code",
   "execution_count": 124,
   "id": "bc749c3c",
   "metadata": {},
   "outputs": [
    {
     "data": {
      "text/html": [
       "<div>\n",
       "<style scoped>\n",
       "    .dataframe tbody tr th:only-of-type {\n",
       "        vertical-align: middle;\n",
       "    }\n",
       "\n",
       "    .dataframe tbody tr th {\n",
       "        vertical-align: top;\n",
       "    }\n",
       "\n",
       "    .dataframe thead th {\n",
       "        text-align: right;\n",
       "    }\n",
       "</style>\n",
       "<table border=\"1\" class=\"dataframe\">\n",
       "  <thead>\n",
       "    <tr style=\"text-align: right;\">\n",
       "      <th></th>\n",
       "      <th>1</th>\n",
       "      <th>0.5</th>\n",
       "      <th>0.25</th>\n",
       "    </tr>\n",
       "  </thead>\n",
       "  <tbody>\n",
       "    <tr>\n",
       "      <th>0</th>\n",
       "      <td>0.000000</td>\n",
       "      <td>0.000000</td>\n",
       "      <td>1.303954</td>\n",
       "    </tr>\n",
       "    <tr>\n",
       "      <th>1</th>\n",
       "      <td>6.682762</td>\n",
       "      <td>5.704797</td>\n",
       "      <td>11.572587</td>\n",
       "    </tr>\n",
       "    <tr>\n",
       "      <th>2</th>\n",
       "      <td>0.000000</td>\n",
       "      <td>0.000000</td>\n",
       "      <td>0.000000</td>\n",
       "    </tr>\n",
       "    <tr>\n",
       "      <th>3</th>\n",
       "      <td>0.325988</td>\n",
       "      <td>3.748866</td>\n",
       "      <td>0.814971</td>\n",
       "    </tr>\n",
       "    <tr>\n",
       "      <th>4</th>\n",
       "      <td>5.215814</td>\n",
       "      <td>2.770901</td>\n",
       "      <td>2.281919</td>\n",
       "    </tr>\n",
       "    <tr>\n",
       "      <th>5</th>\n",
       "      <td>10.594622</td>\n",
       "      <td>7.171744</td>\n",
       "      <td>8.638692</td>\n",
       "    </tr>\n",
       "  </tbody>\n",
       "</table>\n",
       "</div>"
      ],
      "text/plain": [
       "           1       0.5       0.25\n",
       "0   0.000000  0.000000   1.303954\n",
       "1   6.682762  5.704797  11.572587\n",
       "2   0.000000  0.000000   0.000000\n",
       "3   0.325988  3.748866   0.814971\n",
       "4   5.215814  2.770901   2.281919\n",
       "5  10.594622  7.171744   8.638692"
      ]
     },
     "execution_count": 124,
     "metadata": {},
     "output_type": "execute_result"
    }
   ],
   "source": [
    "bradford = bradford *(np.ones(bradford.shape[1])*linreg.coef_)\n",
    "bradford"
   ]
  },
  {
   "cell_type": "markdown",
   "id": "7beef8b9",
   "metadata": {},
   "source": [
    "Усредним повторы"
   ]
  },
  {
   "cell_type": "code",
   "execution_count": 128,
   "id": "7eca86e7",
   "metadata": {},
   "outputs": [
    {
     "data": {
      "text/html": [
       "<div>\n",
       "<style scoped>\n",
       "    .dataframe tbody tr th:only-of-type {\n",
       "        vertical-align: middle;\n",
       "    }\n",
       "\n",
       "    .dataframe tbody tr th {\n",
       "        vertical-align: top;\n",
       "    }\n",
       "\n",
       "    .dataframe thead th {\n",
       "        text-align: right;\n",
       "    }\n",
       "</style>\n",
       "<table border=\"1\" class=\"dataframe\">\n",
       "  <thead>\n",
       "    <tr style=\"text-align: right;\">\n",
       "      <th></th>\n",
       "      <th>1</th>\n",
       "      <th>0.5</th>\n",
       "      <th>0.25</th>\n",
       "    </tr>\n",
       "  </thead>\n",
       "  <tbody>\n",
       "    <tr>\n",
       "      <th>1</th>\n",
       "      <td>3.341381</td>\n",
       "      <td>2.852398</td>\n",
       "      <td>6.438271</td>\n",
       "    </tr>\n",
       "    <tr>\n",
       "      <th>3</th>\n",
       "      <td>0.162994</td>\n",
       "      <td>1.874433</td>\n",
       "      <td>0.407485</td>\n",
       "    </tr>\n",
       "    <tr>\n",
       "      <th>5</th>\n",
       "      <td>7.905218</td>\n",
       "      <td>4.971323</td>\n",
       "      <td>5.460305</td>\n",
       "    </tr>\n",
       "  </tbody>\n",
       "</table>\n",
       "</div>"
      ],
      "text/plain": [
       "          1       0.5      0.25\n",
       "1  3.341381  2.852398  6.438271\n",
       "3  0.162994  1.874433  0.407485\n",
       "5  7.905218  4.971323  5.460305"
      ]
     },
     "execution_count": 128,
     "metadata": {},
     "output_type": "execute_result"
    }
   ],
   "source": [
    "bradford = bradford.rolling(2).mean()[1::2]\n",
    "bradford"
   ]
  },
  {
   "cell_type": "markdown",
   "id": "51d71b1b",
   "metadata": {},
   "source": [
    "Предположим, что наши данные нормальные, а не такие, какие они есть, и что концентрация лизата прямо пропорциональна количеству белка"
   ]
  },
  {
   "cell_type": "code",
   "execution_count": 179,
   "id": "dd92d7ec",
   "metadata": {},
   "outputs": [
    {
     "data": {
      "text/plain": [
       "1    11.599753\n",
       "3     1.847267\n",
       "5    13.229695\n",
       "dtype: float64"
      ]
     },
     "execution_count": 179,
     "metadata": {},
     "output_type": "execute_result"
    }
   ],
   "source": [
    "r = (bradford['1']+bradford['0.5']*2 + bradford['0.25']*4)/3\n",
    "r"
   ]
  },
  {
   "cell_type": "markdown",
   "id": "dd9bab16",
   "metadata": {},
   "source": [
    "Учитывая концентрацию БСА 0.1 мг/мкл разделим полученные результаты на 10 -- получится концентрация в мкг/100 мкл. Умножением на 10 переведем все в мкг/мл"
   ]
  },
  {
   "cell_type": "code",
   "execution_count": 208,
   "id": "f71bed5e",
   "metadata": {},
   "outputs": [
    {
     "data": {
      "text/plain": [
       "array([[11.59975318],\n",
       "       [ 1.84726749],\n",
       "       [13.22969508]])"
      ]
     },
     "execution_count": 208,
     "metadata": {},
     "output_type": "execute_result"
    }
   ],
   "source": [
    "conc = np.array(r/10*10).reshape(-1, 1)\n",
    "conc"
   ]
  },
  {
   "cell_type": "markdown",
   "id": "62eae4fa",
   "metadata": {},
   "source": [
    "В таком случае:\n",
    "\n",
    "20 -- 11.59975318 мкг/мл\n",
    "\n",
    "25 -- 1.84726749 -> 18 мкг/мл\n",
    "\n",
    "30 -- 13.22969508 -> 130 мкг/мл"
   ]
  },
  {
   "cell_type": "markdown",
   "id": "d269d23a",
   "metadata": {},
   "source": [
    "## Протеолитическая активность"
   ]
  },
  {
   "cell_type": "code",
   "execution_count": 235,
   "id": "bdf39ae6",
   "metadata": {},
   "outputs": [
    {
     "data": {
      "text/html": [
       "<div>\n",
       "<style scoped>\n",
       "    .dataframe tbody tr th:only-of-type {\n",
       "        vertical-align: middle;\n",
       "    }\n",
       "\n",
       "    .dataframe tbody tr th {\n",
       "        vertical-align: top;\n",
       "    }\n",
       "\n",
       "    .dataframe thead th {\n",
       "        text-align: right;\n",
       "    }\n",
       "</style>\n",
       "<table border=\"1\" class=\"dataframe\">\n",
       "  <thead>\n",
       "    <tr style=\"text-align: right;\">\n",
       "      <th></th>\n",
       "      <th>200</th>\n",
       "      <th>100</th>\n",
       "      <th>50</th>\n",
       "    </tr>\n",
       "  </thead>\n",
       "  <tbody>\n",
       "    <tr>\n",
       "      <th>0</th>\n",
       "      <td>0.202</td>\n",
       "      <td>0.198</td>\n",
       "      <td>0.186</td>\n",
       "    </tr>\n",
       "    <tr>\n",
       "      <th>1</th>\n",
       "      <td>0.194</td>\n",
       "      <td>0.321</td>\n",
       "      <td>0.259</td>\n",
       "    </tr>\n",
       "    <tr>\n",
       "      <th>2</th>\n",
       "      <td>0.210</td>\n",
       "      <td>0.347</td>\n",
       "      <td>0.210</td>\n",
       "    </tr>\n",
       "    <tr>\n",
       "      <th>3</th>\n",
       "      <td>0.206</td>\n",
       "      <td>0.274</td>\n",
       "      <td>0.284</td>\n",
       "    </tr>\n",
       "    <tr>\n",
       "      <th>4</th>\n",
       "      <td>0.167</td>\n",
       "      <td>0.195</td>\n",
       "      <td>0.183</td>\n",
       "    </tr>\n",
       "    <tr>\n",
       "      <th>5</th>\n",
       "      <td>0.222</td>\n",
       "      <td>0.326</td>\n",
       "      <td>0.281</td>\n",
       "    </tr>\n",
       "    <tr>\n",
       "      <th>6</th>\n",
       "      <td>0.214</td>\n",
       "      <td>0.206</td>\n",
       "      <td>0.165</td>\n",
       "    </tr>\n",
       "  </tbody>\n",
       "</table>\n",
       "</div>"
      ],
      "text/plain": [
       "     200    100     50\n",
       "0  0.202  0.198  0.186\n",
       "1  0.194  0.321  0.259\n",
       "2  0.210  0.347  0.210\n",
       "3  0.206  0.274  0.284\n",
       "4  0.167  0.195  0.183\n",
       "5  0.222  0.326  0.281\n",
       "6  0.214  0.206  0.165"
      ]
     },
     "execution_count": 235,
     "metadata": {},
     "output_type": "execute_result"
    }
   ],
   "source": [
    "prot = pd.read_csv('prot.txt', sep = '\\t' )\n",
    "prot"
   ]
  },
  {
   "cell_type": "code",
   "execution_count": 236,
   "id": "7b88bf4f",
   "metadata": {},
   "outputs": [
    {
     "data": {
      "text/html": [
       "<div>\n",
       "<style scoped>\n",
       "    .dataframe tbody tr th:only-of-type {\n",
       "        vertical-align: middle;\n",
       "    }\n",
       "\n",
       "    .dataframe tbody tr th {\n",
       "        vertical-align: top;\n",
       "    }\n",
       "\n",
       "    .dataframe thead th {\n",
       "        text-align: right;\n",
       "    }\n",
       "</style>\n",
       "<table border=\"1\" class=\"dataframe\">\n",
       "  <thead>\n",
       "    <tr style=\"text-align: right;\">\n",
       "      <th></th>\n",
       "      <th>200</th>\n",
       "      <th>100</th>\n",
       "      <th>50</th>\n",
       "    </tr>\n",
       "  </thead>\n",
       "  <tbody>\n",
       "    <tr>\n",
       "      <th>1</th>\n",
       "      <td>-0.0080</td>\n",
       "      <td>0.0535</td>\n",
       "      <td>0.0165</td>\n",
       "    </tr>\n",
       "    <tr>\n",
       "      <th>3</th>\n",
       "      <td>0.0020</td>\n",
       "      <td>0.1045</td>\n",
       "      <td>0.0410</td>\n",
       "    </tr>\n",
       "    <tr>\n",
       "      <th>5</th>\n",
       "      <td>-0.0115</td>\n",
       "      <td>0.0545</td>\n",
       "      <td>0.0260</td>\n",
       "    </tr>\n",
       "  </tbody>\n",
       "</table>\n",
       "</div>"
      ],
      "text/plain": [
       "      200     100      50\n",
       "1 -0.0080  0.0535  0.0165\n",
       "3  0.0020  0.1045  0.0410\n",
       "5 -0.0115  0.0545  0.0260"
      ]
     },
     "execution_count": 236,
     "metadata": {},
     "output_type": "execute_result"
    }
   ],
   "source": [
    "control = prot.iloc[6].median()\n",
    "prot = (prot - control).drop(6) #убираем фон\n",
    "prot = prot.rolling(2).mean()[1::2] #усредняем повторы\n",
    "#prot[prot>0] = 0 можно было бы избавиться от значений больше нуля, ну глупые они, но не будем\n",
    "prot"
   ]
  },
  {
   "cell_type": "markdown",
   "id": "4f0c2591",
   "metadata": {},
   "source": [
    "Контроль и первый образец находились в краевых лунках планшета, возможно, там больше погрешность?"
   ]
  },
  {
   "cell_type": "markdown",
   "id": "af1d9e13",
   "metadata": {},
   "source": [
    "В идеальной вселенной стоило бы сделать из всех трех концентраций одну колонку, но из-за того, что данные плохие, оставим все 3. Если бы данные были хорошими, все 3 итоговых результата должны оказаться равны, у нас же такого не будет. Посмотрим, что будет"
   ]
  },
  {
   "cell_type": "code",
   "execution_count": 237,
   "id": "ec1ba338",
   "metadata": {},
   "outputs": [],
   "source": [
    "# считаем для 1 мл\n",
    "prot['200'] = prot['200']/200*1000\n",
    "prot['100'] = prot['100']/100*1000\n",
    "prot['50'] = prot['50']/50*1000"
   ]
  },
  {
   "cell_type": "code",
   "execution_count": 238,
   "id": "a53c5092",
   "metadata": {},
   "outputs": [
    {
     "data": {
      "text/html": [
       "<div>\n",
       "<style scoped>\n",
       "    .dataframe tbody tr th:only-of-type {\n",
       "        vertical-align: middle;\n",
       "    }\n",
       "\n",
       "    .dataframe tbody tr th {\n",
       "        vertical-align: top;\n",
       "    }\n",
       "\n",
       "    .dataframe thead th {\n",
       "        text-align: right;\n",
       "    }\n",
       "</style>\n",
       "<table border=\"1\" class=\"dataframe\">\n",
       "  <thead>\n",
       "    <tr style=\"text-align: right;\">\n",
       "      <th></th>\n",
       "      <th>200</th>\n",
       "      <th>100</th>\n",
       "      <th>50</th>\n",
       "    </tr>\n",
       "  </thead>\n",
       "  <tbody>\n",
       "    <tr>\n",
       "      <th>1</th>\n",
       "      <td>-0.0400</td>\n",
       "      <td>0.535</td>\n",
       "      <td>0.33</td>\n",
       "    </tr>\n",
       "    <tr>\n",
       "      <th>3</th>\n",
       "      <td>0.0100</td>\n",
       "      <td>1.045</td>\n",
       "      <td>0.82</td>\n",
       "    </tr>\n",
       "    <tr>\n",
       "      <th>5</th>\n",
       "      <td>-0.0575</td>\n",
       "      <td>0.545</td>\n",
       "      <td>0.52</td>\n",
       "    </tr>\n",
       "  </tbody>\n",
       "</table>\n",
       "</div>"
      ],
      "text/plain": [
       "      200    100    50\n",
       "1 -0.0400  0.535  0.33\n",
       "3  0.0100  1.045  0.82\n",
       "5 -0.0575  0.545  0.52"
      ]
     },
     "execution_count": 238,
     "metadata": {},
     "output_type": "execute_result"
    }
   ],
   "source": [
    "prot #для 1 мл"
   ]
  },
  {
   "cell_type": "code",
   "execution_count": 239,
   "id": "978d6a54",
   "metadata": {},
   "outputs": [],
   "source": [
    "res = prot/conc/15 #делим /мл на мкг/мл , получая /1мкг и потом делим на время инкубации(15 минут)"
   ]
  },
  {
   "cell_type": "code",
   "execution_count": 240,
   "id": "c6bd0f89",
   "metadata": {},
   "outputs": [],
   "source": [
    "res['i'] = [20, 25, 30]\n",
    "res.set_index('i', inplace = True)"
   ]
  },
  {
   "cell_type": "code",
   "execution_count": 241,
   "id": "c3be966b",
   "metadata": {},
   "outputs": [
    {
     "data": {
      "text/html": [
       "<div>\n",
       "<style scoped>\n",
       "    .dataframe tbody tr th:only-of-type {\n",
       "        vertical-align: middle;\n",
       "    }\n",
       "\n",
       "    .dataframe tbody tr th {\n",
       "        vertical-align: top;\n",
       "    }\n",
       "\n",
       "    .dataframe thead th {\n",
       "        text-align: right;\n",
       "    }\n",
       "</style>\n",
       "<table border=\"1\" class=\"dataframe\">\n",
       "  <thead>\n",
       "    <tr style=\"text-align: right;\">\n",
       "      <th></th>\n",
       "      <th>200</th>\n",
       "      <th>100</th>\n",
       "      <th>50</th>\n",
       "    </tr>\n",
       "    <tr>\n",
       "      <th>i</th>\n",
       "      <th></th>\n",
       "      <th></th>\n",
       "      <th></th>\n",
       "    </tr>\n",
       "  </thead>\n",
       "  <tbody>\n",
       "    <tr>\n",
       "      <th>20</th>\n",
       "      <td>-0.000230</td>\n",
       "      <td>0.003075</td>\n",
       "      <td>0.001897</td>\n",
       "    </tr>\n",
       "    <tr>\n",
       "      <th>25</th>\n",
       "      <td>0.000361</td>\n",
       "      <td>0.037713</td>\n",
       "      <td>0.029593</td>\n",
       "    </tr>\n",
       "    <tr>\n",
       "      <th>30</th>\n",
       "      <td>-0.000290</td>\n",
       "      <td>0.002746</td>\n",
       "      <td>0.002620</td>\n",
       "    </tr>\n",
       "  </tbody>\n",
       "</table>\n",
       "</div>"
      ],
      "text/plain": [
       "         200       100        50\n",
       "i                               \n",
       "20 -0.000230  0.003075  0.001897\n",
       "25  0.000361  0.037713  0.029593\n",
       "30 -0.000290  0.002746  0.002620"
      ]
     },
     "execution_count": 241,
     "metadata": {},
     "output_type": "execute_result"
    }
   ],
   "source": [
    "res"
   ]
  },
  {
   "cell_type": "markdown",
   "id": "15f857cf",
   "metadata": {},
   "source": [
    "Как говорилось, все данные должны были быть одинаковыми, но они разные. Возьмем среднее по ним"
   ]
  },
  {
   "cell_type": "code",
   "execution_count": 242,
   "id": "96485581",
   "metadata": {},
   "outputs": [
    {
     "data": {
      "text/plain": [
       "i\n",
       "20    0.001580\n",
       "25    0.022556\n",
       "30    0.001692\n",
       "dtype: float64"
      ]
     },
     "execution_count": 242,
     "metadata": {},
     "output_type": "execute_result"
    }
   ],
   "source": [
    "res.mean(axis = 1)"
   ]
  },
  {
   "cell_type": "markdown",
   "id": "43506bff",
   "metadata": {},
   "source": [
    "Это ответ для ед/мкг\\*мин. Тогда для ед/мг*мин:"
   ]
  },
  {
   "cell_type": "code",
   "execution_count": 243,
   "id": "fe56356c",
   "metadata": {},
   "outputs": [
    {
     "data": {
      "text/plain": [
       "i\n",
       "20     1.580493\n",
       "25    22.555838\n",
       "30     1.692321\n",
       "dtype: float64"
      ]
     },
     "execution_count": 243,
     "metadata": {},
     "output_type": "execute_result"
    }
   ],
   "source": [
    "(res*1000).mean(axis = 1)"
   ]
  },
  {
   "cell_type": "markdown",
   "id": "87b2945c",
   "metadata": {},
   "source": [
    "## Амилолитическая активность"
   ]
  },
  {
   "cell_type": "markdown",
   "id": "37d0a7e6",
   "metadata": {},
   "source": [
    "Мы ставили эксперимент 2 раза, но оба раза он был неудачным из-за крахмала. Поэтому данных по нему нет("
   ]
  }
 ],
 "metadata": {
  "kernelspec": {
   "display_name": "Python 3 (ipykernel)",
   "language": "python",
   "name": "python3"
  },
  "language_info": {
   "codemirror_mode": {
    "name": "ipython",
    "version": 3
   },
   "file_extension": ".py",
   "mimetype": "text/x-python",
   "name": "python",
   "nbconvert_exporter": "python",
   "pygments_lexer": "ipython3",
   "version": "3.9.7"
  }
 },
 "nbformat": 4,
 "nbformat_minor": 5
}
