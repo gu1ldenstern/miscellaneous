{
 "cells": [
  {
   "cell_type": "code",
   "execution_count": 10,
   "id": "e3084c7f",
   "metadata": {},
   "outputs": [],
   "source": [
    "import pandas as pd\n",
    "import numpy as np\n",
    "import matplotlib.pyplot as plt\n",
    "\n",
    "from scipy.stats import mannwhitneyu, ttest_ind, fisher_exact"
   ]
  },
  {
   "cell_type": "code",
   "execution_count": 2,
   "id": "94dd7b5b",
   "metadata": {},
   "outputs": [
    {
     "name": "stderr",
     "output_type": "stream",
     "text": [
      "C:\\Users\\mishka\\anaconda3\\lib\\site-packages\\pandas\\core\\indexing.py:1732: SettingWithCopyWarning: \n",
      "A value is trying to be set on a copy of a slice from a DataFrame\n",
      "\n",
      "See the caveats in the documentation: https://pandas.pydata.org/pandas-docs/stable/user_guide/indexing.html#returning-a-view-versus-a-copy\n",
      "  self._setitem_single_block(indexer, value, name)\n"
     ]
    }
   ],
   "source": [
    "data = pd.read_pickle(\"kulich.pkl\")\n",
    "data['GAP_IN_YEAR'] = data['I_EPI21_INFCLIN_MHSTDAT'].isnull()\n",
    "\n",
    "missing_date_2 = data[(data['GAP_IN_YEAR'] == True) & (data['uI_EPI21_INFPER_MHSTDAT'] == 'Период 2 (с 2016 - по сегодняшний день)')].index\n",
    "missing_date_1 = data[(data['GAP_IN_YEAR'] == True) & (data['uI_EPI21_INFPER_MHSTDAT'] != 'Период 2 (с 2016 - по сегодняшний день)')].index\n",
    "\n",
    "data['I_EPI21_INFCLIN_MHSTDAT'].loc[missing_date_2] = '2019-01-01'\n",
    "data['I_EPI21_INFCLIN_MHSTDAT'].loc[missing_date_1] = '2012-01-01'\n",
    "\n",
    "data['AGE'] = ((pd.to_datetime(data['I_EPI21_INFCLIN_MHSTDAT']) - pd.to_datetime(data['I_EPI22_BRTHDAT']))/np.timedelta64(1, 'Y')).astype(int)\n"
   ]
  },
  {
   "cell_type": "markdown",
   "id": "c283e165",
   "metadata": {},
   "source": [
    "### возраст"
   ]
  },
  {
   "cell_type": "code",
   "execution_count": 5,
   "id": "1e64d15e",
   "metadata": {},
   "outputs": [],
   "source": [
    "success = data[data.I_EPI28_PREG_RPORRES == 1]['AGE'].to_numpy()\n",
    "failure = data[data.I_EPI28_PREG_RPORRES == 0]['AGE'].to_numpy()"
   ]
  },
  {
   "cell_type": "code",
   "execution_count": 6,
   "id": "34910d5c",
   "metadata": {},
   "outputs": [
    {
     "data": {
      "text/plain": [
       "1.9234862322715067e-17"
      ]
     },
     "execution_count": 6,
     "metadata": {},
     "output_type": "execute_result"
    }
   ],
   "source": [
    "mannwhitneyu(success, failure)[1]"
   ]
  },
  {
   "cell_type": "code",
   "execution_count": 7,
   "id": "d1bdb5df",
   "metadata": {},
   "outputs": [
    {
     "data": {
      "text/plain": [
       "8.674288786230679e-20"
      ]
     },
     "execution_count": 7,
     "metadata": {},
     "output_type": "execute_result"
    }
   ],
   "source": [
    "# если считать распределение за нормальное\n",
    "ttest_ind(success, failure)[1]"
   ]
  },
  {
   "cell_type": "code",
   "execution_count": 8,
   "id": "24fb4410",
   "metadata": {},
   "outputs": [
    {
     "name": "stdout",
     "output_type": "stream",
     "text": [
      "успехи: 31.775237+-4.666305 \t неуспехи: 32.887869+-5.027784\n"
     ]
    }
   ],
   "source": [
    "print(\"успехи: %f+-%f \\t неуспехи: %f+-%f\" %(success.mean(), success.std(), failure.mean(), failure.std()))"
   ]
  },
  {
   "cell_type": "markdown",
   "id": "db4ad99e",
   "metadata": {},
   "source": [
    "### амг"
   ]
  },
  {
   "cell_type": "code",
   "execution_count": 48,
   "id": "f671f5aa",
   "metadata": {},
   "outputs": [
    {
     "data": {
      "text/plain": [
       "3.670986360370023e-15"
      ]
     },
     "execution_count": 48,
     "metadata": {},
     "output_type": "execute_result"
    }
   ],
   "source": [
    "success = data[data.I_EPI28_PREG_RPORRES == 1]['АМГ (нг/мл)'].apply(lambda x: min(x) if type(x) == np.ndarray else x).to_numpy()\n",
    "failure = data[data.I_EPI28_PREG_RPORRES == 0]['АМГ (нг/мл)'].apply(lambda x: min(x) if type(x) == np.ndarray else x).to_numpy()\n",
    "mannwhitneyu(success, failure, nan_policy='omit')[1]"
   ]
  },
  {
   "cell_type": "code",
   "execution_count": 49,
   "id": "10779959",
   "metadata": {},
   "outputs": [
    {
     "name": "stdout",
     "output_type": "stream",
     "text": [
      "успехи: 3.216068+-2.948904 \t неуспехи: 2.750081+-2.554033\n"
     ]
    }
   ],
   "source": [
    "success = success[~np.isnan(success)]\n",
    "failure = failure[~np.isnan(failure)]\n",
    "print(\"успехи: %f+-%f \\t неуспехи: %f+-%f\" %(success.mean(), success.std(), failure.mean(), failure.std()))"
   ]
  },
  {
   "cell_type": "code",
   "execution_count": 32,
   "id": "5535242d",
   "metadata": {},
   "outputs": [
    {
     "data": {
      "text/plain": [
       "(array([998., 556., 134.,  49.,  27.,  12.,   8.,   8.,   1.,   3.]),\n",
       " array([1.0000e-02, 2.6430e+00, 5.2760e+00, 7.9090e+00, 1.0542e+01,\n",
       "        1.3175e+01, 1.5808e+01, 1.8441e+01, 2.1074e+01, 2.3707e+01,\n",
       "        2.6340e+01]),\n",
       " <BarContainer object of 10 artists>)"
      ]
     },
     "execution_count": 32,
     "metadata": {},
     "output_type": "execute_result"
    },
    {
     "data": {
      "image/png": "[encoded data removed]",
      "text/plain": [
       "<Figure size 432x288 with 1 Axes>"
      ]
     },
     "metadata": {
      "needs_background": "light"
     },
     "output_type": "display_data"
    }
   ],
   "source": [
    "plt.hist(success)"
   ]
  },
  {
   "cell_type": "markdown",
   "id": "7c5e7fb2",
   "metadata": {},
   "source": [
    "### имт"
   ]
  },
  {
   "cell_type": "code",
   "execution_count": 33,
   "id": "9212619e",
   "metadata": {},
   "outputs": [
    {
     "name": "stdout",
     "output_type": "stream",
     "text": [
      "pval: 0.10393456802712785\n",
      "успехи: 23.530120+-3.968529 \t неуспехи: 23.709093+-4.086004\n"
     ]
    }
   ],
   "source": [
    "success = data[data.I_EPI28_PREG_RPORRES == 1]['I_EPI22_BMI_VSORRES'].to_numpy()\n",
    "failure = data[data.I_EPI28_PREG_RPORRES == 0]['I_EPI22_BMI_VSORRES'].to_numpy()\n",
    "print(\"pval:\", mannwhitneyu(success, failure, nan_policy='omit')[1])\n",
    "success = success[~np.isnan(success)]\n",
    "failure = failure[~np.isnan(failure)]\n",
    "print(\"успехи: %f+-%f \\t неуспехи: %f+-%f\" %(success.mean(), success.std(), failure.mean(), failure.std()))"
   ]
  },
  {
   "cell_type": "markdown",
   "id": "1fbaa51b",
   "metadata": {},
   "source": [
    "### гормональное лечение"
   ]
  },
  {
   "cell_type": "code",
   "execution_count": 34,
   "id": "f5d5d414",
   "metadata": {},
   "outputs": [
    {
     "name": "stdout",
     "output_type": "stream",
     "text": [
      "pval: 0.3336455004978316\n",
      "успехи: 1.926496+-1.825667 \t неуспехи: 1.890608+-2.189773\n"
     ]
    }
   ],
   "source": [
    "success = data[data.I_EPI28_PREG_RPORRES == 1]['I_EPI23_HORMTREAT_CMDECOD'].to_numpy()\n",
    "failure = data[data.I_EPI28_PREG_RPORRES == 0]['I_EPI23_HORMTREAT_CMDECOD'].to_numpy()\n",
    "print(\"pval:\", mannwhitneyu(success, failure, nan_policy='omit')[1])\n",
    "success = success[~np.isnan(success)]\n",
    "failure = failure[~np.isnan(failure)]\n",
    "print(\"успехи: %f+-%f \\t неуспехи: %f+-%f\" %(success.mean(), success.std(), failure.mean(), failure.std()))"
   ]
  },
  {
   "cell_type": "code",
   "execution_count": 35,
   "id": "fee19da8",
   "metadata": {},
   "outputs": [
    {
     "name": "stdout",
     "output_type": "stream",
     "text": [
      "КОЛ-ВО НАБЛЮДЕНИЙ\n",
      "Беременность: 234.000000, Нет беременности: 362.000000\n"
     ]
    }
   ],
   "source": [
    "print(\"КОЛ-ВО НАБЛЮДЕНИЙ\\nБеременность: %f, Нет беременности: %f\" %(len(success[~np.isnan(success)]), len(failure[~np.isnan(failure)])))"
   ]
  },
  {
   "cell_type": "code",
   "execution_count": 63,
   "id": "713542d8",
   "metadata": {},
   "outputs": [
    {
     "data": {
      "text/plain": [
       "518"
      ]
     },
     "execution_count": 63,
     "metadata": {},
     "output_type": "execute_result"
    }
   ],
   "source": [
    "inf_treatment_dur = (data.I_EPI21_INFCLIN_MHSTDAT - data.I_EPI21_INFTHER_MHSTDAT).dropna()\n",
    "inf_treatment_dur = inf_treatment_dur[inf_treatment_dur > np.timedelta64(0, 'D')]\n",
    "inf_treatment_dur.shape[0]"
   ]
  },
  {
   "cell_type": "markdown",
   "id": "e22938c1",
   "metadata": {},
   "source": [
    "Тут вычитанием из даты обращения в клинику ВРТ даты начала лечения бесплодия получаем еще меньше женщин, чем при данных горм лечения, но тут p-value 0.05)) То есть стат. значимость. Не знаю, стоит ли брать, не сильна в размерах выборок"
   ]
  },
  {
   "cell_type": "code",
   "execution_count": 79,
   "id": "f53bc2b9",
   "metadata": {},
   "outputs": [
    {
     "name": "stdout",
     "output_type": "stream",
     "text": [
      "pval: 0.005006472959042236\n",
      "успехи (в днях): 1284.052632+-988.037760 \t неуспехи (в днях): 1605.737705+-1287.282030\n"
     ]
    }
   ],
   "source": [
    "total_patients =  data.loc[inf_treatment_dur.index]\n",
    "\n",
    "success = (inf_treatment_dur[total_patients[total_patients.I_EPI28_PREG_RPORRES == 1].index]/ np.timedelta64(1, 'D')).to_numpy()\n",
    "failure = (inf_treatment_dur[total_patients[total_patients.I_EPI28_PREG_RPORRES == 0].index]/ np.timedelta64(1, 'D')).to_numpy()\n",
    "print(\"pval:\", mannwhitneyu(success, failure, nan_policy='omit')[1])\n",
    "success = success[~np.isnan(success)]\n",
    "failure = failure[~np.isnan(failure)]\n",
    "print(\"успехи (в днях): %f+-%f \\t неуспехи (в днях): %f+-%f\" %(success.mean(), success.std(), failure.mean(), failure.std()))"
   ]
  },
  {
   "cell_type": "code",
   "execution_count": 78,
   "id": "9ef51710",
   "metadata": {},
   "outputs": [
    {
     "name": "stdout",
     "output_type": "stream",
     "text": [
      "КОЛ-ВО НАБЛЮДЕНИЙ\n",
      "Беременность: 152.000000, Нет беременности: 366.000000\n"
     ]
    }
   ],
   "source": [
    "print(\"КОЛ-ВО НАБЛЮДЕНИЙ\\nБеременность: %f, Нет беременности: %f\" %(len(success[~np.isnan(success)]), len(failure[~np.isnan(failure)])))"
   ]
  },
  {
   "cell_type": "markdown",
   "id": "f4253ff1",
   "metadata": {},
   "source": [
    "### трубный фактор"
   ]
  },
  {
   "cell_type": "code",
   "execution_count": 41,
   "id": "ab65ec3e",
   "metadata": {},
   "outputs": [
    {
     "name": "stdout",
     "output_type": "stream",
     "text": [
      "I_EPI23_INFERT_N971_MHOCCUR  I_EPI28_PREG_RPORRES\n",
      "N                            0                       2415\n",
      "                             1                       1390\n",
      "Y                            0                       2048\n",
      "                             1                       1143\n",
      "Name: study_name, dtype: int64\n",
      " P-VALUE И СТАТИСТИКА\n",
      "SignificanceResult(statistic=0.96965806261241, pvalue=0.5489536993234814)\n"
     ]
    }
   ],
   "source": [
    "#data['tub'] = data.I_EPI23_INFERT_N971_MHOCCUR.replace({Y:1})\n",
    "la = data.groupby(by = ['I_EPI23_INFERT_N971_MHOCCUR', 'I_EPI28_PREG_RPORRES'])['study_name'].count()\n",
    "\n",
    "st = np.zeros(4).reshape(2, 2)\n",
    "\n",
    "st[0][0] = la[('Y', 1)]\n",
    "st[0][1] = la[('N', 1)]\n",
    "st[1][0] = la[('Y', 0)]\n",
    "st[1][1] = la[('N', 0)]\n",
    "\n",
    "print(la, fisher_exact(st), sep = '\\n P-VALUE И СТАТИСТИКА\\n')"
   ]
  },
  {
   "cell_type": "markdown",
   "id": "8c673129",
   "metadata": {},
   "source": [
    "### отсутствие овуляции"
   ]
  },
  {
   "cell_type": "code",
   "execution_count": 42,
   "id": "b6a60920",
   "metadata": {},
   "outputs": [
    {
     "name": "stdout",
     "output_type": "stream",
     "text": [
      "I_EPI23_INFERT_N970_MHOCCUR  I_EPI28_PREG_RPORRES\n",
      "N                            0                       3683\n",
      "                             1                       2030\n",
      "Y                            0                        777\n",
      "                             1                        502\n",
      "Name: study_name, dtype: int64\n",
      " P-VALUE И СТАТИСТИКА\n",
      "SignificanceResult(statistic=1.1721640007354293, pvalue=0.013200835556353235)\n"
     ]
    }
   ],
   "source": [
    "la = data.groupby(by = ['I_EPI23_INFERT_N970_MHOCCUR', 'I_EPI28_PREG_RPORRES'])['study_name'].count()\n",
    "\n",
    "st = np.zeros(4).reshape(2, 2)\n",
    "\n",
    "st[0][0] = la[('Y', 1)]\n",
    "st[0][1] = la[('N', 1)]\n",
    "st[1][0] = la[('Y', 0)]\n",
    "st[1][1] = la[('N', 0)]\n",
    "\n",
    "print(la, fisher_exact(st), sep = '\\n P-VALUE И СТАТИСТИКА\\n')"
   ]
  },
  {
   "cell_type": "markdown",
   "id": "ab99ce29",
   "metadata": {},
   "source": [
    "### маточное"
   ]
  },
  {
   "cell_type": "code",
   "execution_count": 43,
   "id": "15440c6b",
   "metadata": {},
   "outputs": [
    {
     "name": "stdout",
     "output_type": "stream",
     "text": [
      "I_EPI23_INFERT_N972_MHOCCUR  I_EPI28_PREG_RPORRES\n",
      "N                            0                       3624\n",
      "                             1                       2122\n",
      "Y                            0                        838\n",
      "                             1                        410\n",
      "Name: study_name, dtype: int64\n",
      " P-VALUE И СТАТИСТИКА\n",
      "SignificanceResult(statistic=0.8355696319273708, pvalue=0.006982330544350513)\n"
     ]
    }
   ],
   "source": [
    "la = data.groupby(by = ['I_EPI23_INFERT_N972_MHOCCUR', 'I_EPI28_PREG_RPORRES'])['study_name'].count()\n",
    "\n",
    "st = np.zeros(4).reshape(2, 2)\n",
    "\n",
    "st[0][0] = la[('Y', 1)]\n",
    "st[0][1] = la[('N', 1)]\n",
    "st[1][0] = la[('Y', 0)]\n",
    "st[1][1] = la[('N', 0)]\n",
    "\n",
    "print(la, fisher_exact(st), sep = '\\n P-VALUE И СТАТИСТИКА\\n')"
   ]
  },
  {
   "cell_type": "markdown",
   "id": "7dbd5e62",
   "metadata": {},
   "source": [
    "### цервикальное"
   ]
  },
  {
   "cell_type": "code",
   "execution_count": 44,
   "id": "672055a3",
   "metadata": {},
   "outputs": [
    {
     "name": "stdout",
     "output_type": "stream",
     "text": [
      "I_EPI23_INFERT_N973_MHOCCUR  I_EPI28_PREG_RPORRES\n",
      "N                            0                       4352\n",
      "                             1                       2444\n",
      "Y                            0                        108\n",
      "                             1                         87\n",
      "Name: study_name, dtype: int64\n",
      " P-VALUE И СТАТИСТИКА\n",
      "SignificanceResult(statistic=1.4344426259319876, pvalue=0.015428274657170844)\n"
     ]
    }
   ],
   "source": [
    "la = data.groupby(by = ['I_EPI23_INFERT_N973_MHOCCUR', 'I_EPI28_PREG_RPORRES'])['study_name'].count()\n",
    "\n",
    "st = np.zeros(4).reshape(2, 2)\n",
    "\n",
    "st[0][0] = la[('Y', 1)]\n",
    "st[0][1] = la[('N', 1)]\n",
    "st[1][0] = la[('Y', 0)]\n",
    "st[1][1] = la[('N', 0)]\n",
    "\n",
    "print(la, fisher_exact(st), sep = '\\n P-VALUE И СТАТИСТИКА\\n')"
   ]
  },
  {
   "cell_type": "markdown",
   "id": "09d89236",
   "metadata": {},
   "source": [
    "### мужской фактор"
   ]
  },
  {
   "cell_type": "code",
   "execution_count": 45,
   "id": "8ab45a62",
   "metadata": {},
   "outputs": [
    {
     "name": "stdout",
     "output_type": "stream",
     "text": [
      "I_EPI23_INFERT_N974_MHOCCUR  I_EPI28_PREG_RPORRES\n",
      "N                            0                       2399\n",
      "                             1                       1371\n",
      "Y                            0                       2064\n",
      "                             1                       1162\n",
      "Name: study_name, dtype: int64\n",
      " P-VALUE И СТАТИСТИКА\n",
      "SignificanceResult(statistic=0.9851202087538661, pvalue=0.7646858093833284)\n"
     ]
    }
   ],
   "source": [
    "la = data.groupby(by = ['I_EPI23_INFERT_N974_MHOCCUR', 'I_EPI28_PREG_RPORRES'])['study_name'].count()\n",
    "\n",
    "st = np.zeros(4).reshape(2, 2)\n",
    "\n",
    "st[0][0] = la[('Y', 1)]\n",
    "st[0][1] = la[('N', 1)]\n",
    "st[1][0] = la[('Y', 0)]\n",
    "st[1][1] = la[('N', 0)]\n",
    "\n",
    "print(la, fisher_exact(st), sep = '\\n P-VALUE И СТАТИСТИКА\\n')"
   ]
  },
  {
   "cell_type": "markdown",
   "id": "d120ef49",
   "metadata": {},
   "source": [
    "### другие формы"
   ]
  },
  {
   "cell_type": "code",
   "execution_count": 46,
   "id": "d748f5fb",
   "metadata": {},
   "outputs": [
    {
     "name": "stdout",
     "output_type": "stream",
     "text": [
      "I_EPI23_INFERT_N978_MHOCCUR  I_EPI28_PREG_RPORRES\n",
      "N                            0                       3763\n",
      "                             1                       2195\n",
      "Y                            0                        701\n",
      "                             1                        335\n",
      "Name: study_name, dtype: int64\n",
      " P-VALUE И СТАТИСТИКА\n",
      "SignificanceResult(statistic=0.8192689259404885, pvalue=0.0056340088191405464)\n"
     ]
    }
   ],
   "source": [
    "la = data.groupby(by = ['I_EPI23_INFERT_N978_MHOCCUR', 'I_EPI28_PREG_RPORRES'])['study_name'].count()\n",
    "\n",
    "st = np.zeros(4).reshape(2, 2)\n",
    "\n",
    "st[0][0] = la[('Y', 1)]\n",
    "st[0][1] = la[('N', 1)]\n",
    "st[1][0] = la[('Y', 0)]\n",
    "st[1][1] = la[('N', 0)]\n",
    "\n",
    "print(la, fisher_exact(st), sep = '\\n P-VALUE И СТАТИСТИКА\\n')"
   ]
  },
  {
   "cell_type": "markdown",
   "id": "27173398",
   "metadata": {},
   "source": [
    "### неуточненное"
   ]
  },
  {
   "cell_type": "code",
   "execution_count": 47,
   "id": "a51bf20d",
   "metadata": {},
   "outputs": [
    {
     "name": "stdout",
     "output_type": "stream",
     "text": [
      "I_EPI23_INFERT_N979_MHOCCUR  I_EPI28_PREG_RPORRES\n",
      "N                            0                       4177\n",
      "                             1                       2361\n",
      "Y                            0                        274\n",
      "                             1                        163\n",
      "Name: study_name, dtype: int64\n",
      " P-VALUE И СТАТИСТИКА\n",
      "SignificanceResult(statistic=1.0524598323733911, pvalue=0.643613148068743)\n"
     ]
    }
   ],
   "source": [
    "la = data.groupby(by = ['I_EPI23_INFERT_N979_MHOCCUR', 'I_EPI28_PREG_RPORRES'])['study_name'].count()\n",
    "\n",
    "st = np.zeros(4).reshape(2, 2)\n",
    "\n",
    "st[0][0] = la[('Y', 1)]\n",
    "st[0][1] = la[('N', 1)]\n",
    "st[1][0] = la[('Y', 0)]\n",
    "st[1][1] = la[('N', 0)]\n",
    "\n",
    "print(la, fisher_exact(st), sep = '\\n P-VALUE И СТАТИСТИКА\\n')"
   ]
  },
  {
   "cell_type": "markdown",
   "id": "ee256792",
   "metadata": {},
   "source": [
    "### предыдущие роды (имеются ли хотя бы одни роды в анамнезе?)"
   ]
  },
  {
   "cell_type": "code",
   "execution_count": 94,
   "id": "4b21067e",
   "metadata": {},
   "outputs": [
    {
     "name": "stdout",
     "output_type": "stream",
     "text": [
      "pregs  I_EPI28_PREG_RPORRES\n",
      "N      0                       3831\n",
      "       1                       2182\n",
      "Y      0                        637\n",
      "       1                        354\n",
      "Name: study_name, dtype: int64\n",
      " P-VALUE И СТАТИСТИКА\n",
      "SignificanceResult(statistic=0.9757110769288326, pvalue=0.7482603793669638)\n"
     ]
    }
   ],
   "source": [
    "#здесь НЕТ -- также отсутствие информации\n",
    "data['pregs'] = data.GRID_EPI22_PREGNANCY_1.notna().replace({True:'Y', False:'N'})\n",
    "la = data.groupby(by = ['pregs', 'I_EPI28_PREG_RPORRES'])['study_name'].count()\n",
    "\n",
    "st = np.zeros(4).reshape(2, 2)\n",
    "\n",
    "st[0][0] = la[('Y', 1)]\n",
    "st[0][1] = la[('N', 1)]\n",
    "st[1][0] = la[('Y', 0)]\n",
    "st[1][1] = la[('N', 0)]\n",
    "\n",
    "print(la, fisher_exact(st), sep = '\\n P-VALUE И СТАТИСТИКА\\n')"
   ]
  },
  {
   "cell_type": "markdown",
   "id": "9cdd9156",
   "metadata": {},
   "source": [
    "### выкидыши (были ли самопроизвольные прерывания беременности/замершие беременности в анамнезе)"
   ]
  },
  {
   "cell_type": "code",
   "execution_count": 108,
   "id": "3a146ae3",
   "metadata": {},
   "outputs": [
    {
     "name": "stdout",
     "output_type": "stream",
     "text": [
      "misc  I_EPI28_PREG_RPORRES\n",
      "N     0                       115\n",
      "      1                        71\n",
      "Y     0                       866\n",
      "      1                       471\n",
      "Name: study_name, dtype: int64\n",
      " P-VALUE И СТАТИСТИКА\n",
      "SignificanceResult(statistic=0.8809322447386397, pvalue=0.4621001508780061)\n"
     ]
    }
   ],
   "source": [
    "misc = data.I_EPI22_PREGMISSNN_RPORRES.dropna()\n",
    "misc = (misc!=0).replace({True:'Y', False:'N'})\n",
    "data['misc'] = ab\n",
    "la = data.groupby(by = ['misc', 'I_EPI28_PREG_RPORRES'])['study_name'].count()\n",
    "\n",
    "st = np.zeros(4).reshape(2, 2)\n",
    "\n",
    "st[0][0] = la[('Y', 1)]\n",
    "st[0][1] = la[('N', 1)]\n",
    "st[1][0] = la[('Y', 0)]\n",
    "st[1][1] = la[('N', 0)]\n",
    "\n",
    "print(la, fisher_exact(st), sep = '\\n P-VALUE И СТАТИСТИКА\\n')"
   ]
  },
  {
   "cell_type": "code",
   "execution_count": null,
   "id": "fe0f6488",
   "metadata": {},
   "outputs": [],
   "source": []
  }
 ],
 "metadata": {
  "kernelspec": {
   "display_name": "Python 3 (ipykernel)",
   "language": "python",
   "name": "python3"
  },
  "language_info": {
   "codemirror_mode": {
    "name": "ipython",
    "version": 3
   },
   "file_extension": ".py",
   "mimetype": "text/x-python",
   "name": "python",
   "nbconvert_exporter": "python",
   "pygments_lexer": "ipython3",
   "version": "3.9.7"
  }
 },
 "nbformat": 4,
 "nbformat_minor": 5
}
